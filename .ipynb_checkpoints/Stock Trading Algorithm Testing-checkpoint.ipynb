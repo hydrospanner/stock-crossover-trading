{
 "cells": [
  {
   "cell_type": "markdown",
   "metadata": {},
   "source": [
    "# Crossover Trading Strategy on S&P 500 Stocks\n",
    "Compare the Crossover strategy aginst simply holding the stock using all the stocks in the S&P 500. "
   ]
  },
  {
   "cell_type": "code",
   "execution_count": 1,
   "metadata": {
    "collapsed": false
   },
   "outputs": [],
   "source": [
    "import pandas as pd\n",
    "import numpy as np\n",
    "import pandas_datareader.data as web\n",
    "import datetime\n",
    "import matplotlib.pyplot as plt"
   ]
  },
  {
   "cell_type": "code",
   "execution_count": 2,
   "metadata": {
    "collapsed": false
   },
   "outputs": [
    {
     "data": {
      "text/plain": [
       "'script ran on 2017-02-17'"
      ]
     },
     "execution_count": 2,
     "metadata": {},
     "output_type": "execute_result"
    }
   ],
   "source": [
    "start = datetime.datetime(2011,1,1)\n",
    "end = datetime.date.today()\n",
    "'script ran on ' +  end.strftime('%Y-%m-%d')"
   ]
  },
  {
   "cell_type": "code",
   "execution_count": 3,
   "metadata": {
    "collapsed": true
   },
   "outputs": [],
   "source": [
    "%matplotlib inline"
   ]
  },
  {
   "cell_type": "code",
   "execution_count": 4,
   "metadata": {
    "collapsed": true
   },
   "outputs": [],
   "source": [
    "def price_adj(dat):\n",
    "    return pd.DataFrame({\"Open\": dat[\"Open\"] * dat[\"Adj Close\"] / dat[\"Close\"],\n",
    "                       \"High\": dat[\"High\"] * dat[\"Adj Close\"] / dat[\"Close\"],\n",
    "                       \"Low\": dat[\"Low\"] * dat[\"Adj Close\"] / dat[\"Close\"],\n",
    "                       \"Close\": dat[\"Adj Close\"]})"
   ]
  },
  {
   "cell_type": "code",
   "execution_count": 5,
   "metadata": {
    "collapsed": false
   },
   "outputs": [],
   "source": [
    "def gen_stock_pnl(stock_symbols):\n",
    "    if type(stock_symbols) == list:\n",
    "        for stock in stock_symbols:\n",
    "            prices = web.DataReader(stock, 'yahoo', start, end)\n",
    "            yield stock, price_adj(prices)"
   ]
  },
  {
   "cell_type": "markdown",
   "metadata": {
    "collapsed": true
   },
   "source": [
    "From [Wikipedia list of S&P 500](https://en.wikipedia.org/wiki/List_of_S%26P_500_companies). "
   ]
  },
  {
   "cell_type": "code",
   "execution_count": 6,
   "metadata": {
    "collapsed": false
   },
   "outputs": [],
   "source": [
    "sp500 = pd.read_csv('data in/sp500.csv')"
   ]
  },
  {
   "cell_type": "code",
   "execution_count": 7,
   "metadata": {
    "collapsed": false
   },
   "outputs": [
    {
     "data": {
      "text/html": [
       "<div>\n",
       "<table border=\"1\" class=\"dataframe\">\n",
       "  <thead>\n",
       "    <tr style=\"text-align: right;\">\n",
       "      <th></th>\n",
       "      <th>Ticker symbol</th>\n",
       "      <th>Security</th>\n",
       "      <th>GICS Sector</th>\n",
       "      <th>GICS Sub Industry</th>\n",
       "    </tr>\n",
       "  </thead>\n",
       "  <tbody>\n",
       "    <tr>\n",
       "      <th>0</th>\n",
       "      <td>MMM</td>\n",
       "      <td>3M Company</td>\n",
       "      <td>Industrials</td>\n",
       "      <td>Industrial Conglomerates</td>\n",
       "    </tr>\n",
       "    <tr>\n",
       "      <th>1</th>\n",
       "      <td>ABT</td>\n",
       "      <td>Abbott Laboratories</td>\n",
       "      <td>Health Care</td>\n",
       "      <td>Health Care Equipment</td>\n",
       "    </tr>\n",
       "    <tr>\n",
       "      <th>2</th>\n",
       "      <td>ABBV</td>\n",
       "      <td>AbbVie</td>\n",
       "      <td>Health Care</td>\n",
       "      <td>Pharmaceuticals</td>\n",
       "    </tr>\n",
       "    <tr>\n",
       "      <th>3</th>\n",
       "      <td>ACN</td>\n",
       "      <td>Accenture plc</td>\n",
       "      <td>Information Technology</td>\n",
       "      <td>IT Consulting &amp; Other Services</td>\n",
       "    </tr>\n",
       "    <tr>\n",
       "      <th>4</th>\n",
       "      <td>ATVI</td>\n",
       "      <td>Activision Blizzard</td>\n",
       "      <td>Information Technology</td>\n",
       "      <td>Home Entertainment Software</td>\n",
       "    </tr>\n",
       "  </tbody>\n",
       "</table>\n",
       "</div>"
      ],
      "text/plain": [
       "  Ticker symbol             Security             GICS Sector  \\\n",
       "0           MMM           3M Company             Industrials   \n",
       "1           ABT  Abbott Laboratories             Health Care   \n",
       "2          ABBV               AbbVie             Health Care   \n",
       "3           ACN        Accenture plc  Information Technology   \n",
       "4          ATVI  Activision Blizzard  Information Technology   \n",
       "\n",
       "                GICS Sub Industry  \n",
       "0        Industrial Conglomerates  \n",
       "1           Health Care Equipment  \n",
       "2                 Pharmaceuticals  \n",
       "3  IT Consulting & Other Services  \n",
       "4     Home Entertainment Software  "
      ]
     },
     "execution_count": 7,
     "metadata": {},
     "output_type": "execute_result"
    }
   ],
   "source": [
    "sp500.head()"
   ]
  },
  {
   "cell_type": "code",
   "execution_count": 9,
   "metadata": {
    "collapsed": false
   },
   "outputs": [],
   "source": [
    "sp500_prices = pd.Panel(dict(gen_stock_pnl(sp500['Ticker symbol'].tolist())))"
   ]
  },
  {
   "cell_type": "code",
   "execution_count": 24,
   "metadata": {
    "collapsed": true
   },
   "outputs": [],
   "source": [
    "class Stock:\n",
    "    def __init__(self, prices):\n",
    "        self.price_df = prices.copy()\n",
    "        \n",
    "    def get_regimes(self, fast, slow):\n",
    "        fast_str = str(fast) + 'd'\n",
    "        slow_str = str(slow) + 'd'\n",
    "        ma_diff_str = fast_str + '-' + slow_str\n",
    "        self.price_df[fast_str] = self.price_df[\"Close\"].rolling(window = fast, center = False).mean()\n",
    "        self.price_df[slow_str] = self.price_df[\"Close\"].rolling(window = slow, center = False).mean()\n",
    "        self.price_df[ma_diff_str] = self.price_df[fast_str] - self.price_df[slow_str]\n",
    " \n",
    "        self.price_df[\"Regime\"] = np.sign(self.price_df[ma_diff_str])\n",
    "        self.price_df[\"Regime\"] = self.price_df[\"Regime\"].fillna(0)\n",
    "    \n",
    "    def add_signals(self):\n",
    "        self.price_df[\"Signal\"] = np.sign(self.price_df[\"Regime\"] - self.price_df[\"Regime\"].shift(1))\n",
    "        \n",
    "    def get_signals_prices(self, fast, slow):\n",
    "        # return df of full stock prices with signals\n",
    "        self.get_regimes(fast, slow)\n",
    "        self.add_signals()\n",
    "        return self.price_df\n",
    "                \n",
    "    def get_trade_df(self, fast, slow):\n",
    "        self.get_regimes(fast, slow)\n",
    "        self.add_signals()\n",
    "        trades = pd.concat([\n",
    "            pd.DataFrame({\"Price\": self.price_df.loc[self.price_df[\"Signal\"] == 1, \"Close\"],\n",
    "                         \"Signal\": \"Buy\"}),\n",
    "            pd.DataFrame({\"Price\": self.price_df.loc[self.price_df[\"Signal\"] == -1, \"Close\"],\n",
    "                         \"Signal\": \"Sell\"}),\n",
    "            ])\n",
    "        trades.sort_index(inplace = True)\n",
    "        # can't sell before we buy\n",
    "        if trades.ix[0, 'Signal'] == 'Sell':\n",
    "            trades = trades.iloc[1:]\n",
    "        if trades.ix[-1, 'Signal'] == 'Buy':\n",
    "            # if the signal of the last day is buy, just don't buy it, otherwise sell on the last day.\n",
    "            last_date = self.price_df.index[-1]\n",
    "            if trades.ix[-1].name == last_date:\n",
    "                trades = trades.iloc[:-1]\n",
    "            else:\n",
    "                # This is screwing up the \"name\" of the index causing the error...\n",
    "                trades = trades.append(pd.Series({'Price':self.price_df.ix[-1,'Close'], 'Signal':'Sell'}, name=last_date))\n",
    "                trades.index.name = 'Date'\n",
    "        return trades\n",
    "        \n",
    "    def get_profits(self, fast, slow):\n",
    "        stock_signals = self.get_trade_df(fast, slow)\n",
    "        buy_df = stock_signals[stock_signals['Signal']=='Buy'].reset_index().copy()\n",
    "        sell_df = stock_signals[stock_signals['Signal']=='Sell'].reset_index().copy()\n",
    "        buy_df = buy_df.drop('Signal', axis=1)\n",
    "        buy_df['End Date'] = sell_df['Date']\n",
    "        buy_df['Profit'] = sell_df['Price'] - buy_df['Price']\n",
    "        return buy_df.set_index('Date')"
   ]
  },
  {
   "cell_type": "code",
   "execution_count": 11,
   "metadata": {
    "collapsed": false
   },
   "outputs": [],
   "source": [
    "sp500 = sp500.set_index('Ticker symbol')"
   ]
  },
  {
   "cell_type": "code",
   "execution_count": 12,
   "metadata": {
    "collapsed": false
   },
   "outputs": [],
   "source": [
    "for symbol, price_df in sp500_prices.iteritems():\n",
    "    stock_cls = Stock(price_df)\n",
    "    alg_profit = stock_cls.get_profits(20,50)['Profit'].sum()\n",
    "    sp500.loc[symbol, 'alg profit'] = alg_profit\n",
    "    # filter out null values when stock was not on market\n",
    "    price_df = price_df[~np.isnan(price_df['Close'])]\n",
    "    stock_hold_profit = price_df.ix[-1, 'Close'] - price_df.ix[0, 'Close']\n",
    "    sp500.loc[symbol, 'hold profit'] = stock_hold_profit\n",
    "    sp500.loc[symbol, 'hold return'] = price_df.ix[-1, 'Close'] / price_df.ix[0, 'Close']\n",
    "    sp500.loc[symbol, 'alg return'] = (price_df.ix[0, 'Close'] + alg_profit) / price_df.ix[0, 'Close']"
   ]
  },
  {
   "cell_type": "code",
   "execution_count": 13,
   "metadata": {
    "collapsed": false
   },
   "outputs": [
    {
     "data": {
      "text/html": [
       "<div>\n",
       "<table border=\"1\" class=\"dataframe\">\n",
       "  <thead>\n",
       "    <tr style=\"text-align: right;\">\n",
       "      <th></th>\n",
       "      <th>Security</th>\n",
       "      <th>GICS Sector</th>\n",
       "      <th>GICS Sub Industry</th>\n",
       "      <th>alg profit</th>\n",
       "      <th>hold profit</th>\n",
       "      <th>hold return</th>\n",
       "      <th>alg return</th>\n",
       "    </tr>\n",
       "    <tr>\n",
       "      <th>Ticker symbol</th>\n",
       "      <th></th>\n",
       "      <th></th>\n",
       "      <th></th>\n",
       "      <th></th>\n",
       "      <th></th>\n",
       "      <th></th>\n",
       "      <th></th>\n",
       "    </tr>\n",
       "  </thead>\n",
       "  <tbody>\n",
       "    <tr>\n",
       "      <th>MMM</th>\n",
       "      <td>3M Company</td>\n",
       "      <td>Industrials</td>\n",
       "      <td>Industrial Conglomerates</td>\n",
       "      <td>70.251046</td>\n",
       "      <td>109.256624</td>\n",
       "      <td>2.473387</td>\n",
       "      <td>1.947375</td>\n",
       "    </tr>\n",
       "    <tr>\n",
       "      <th>ABT</th>\n",
       "      <td>Abbott Laboratories</td>\n",
       "      <td>Health Care</td>\n",
       "      <td>Health Care Equipment</td>\n",
       "      <td>1.563760</td>\n",
       "      <td>24.642385</td>\n",
       "      <td>2.259989</td>\n",
       "      <td>1.079957</td>\n",
       "    </tr>\n",
       "    <tr>\n",
       "      <th>ABBV</th>\n",
       "      <td>AbbVie</td>\n",
       "      <td>Health Care</td>\n",
       "      <td>Pharmaceuticals</td>\n",
       "      <td>4.081111</td>\n",
       "      <td>31.289459</td>\n",
       "      <td>2.036399</td>\n",
       "      <td>1.135178</td>\n",
       "    </tr>\n",
       "    <tr>\n",
       "      <th>ACN</th>\n",
       "      <td>Accenture plc</td>\n",
       "      <td>Information Technology</td>\n",
       "      <td>IT Consulting &amp; Other Services</td>\n",
       "      <td>13.332207</td>\n",
       "      <td>78.178635</td>\n",
       "      <td>2.837709</td>\n",
       "      <td>1.313394</td>\n",
       "    </tr>\n",
       "    <tr>\n",
       "      <th>ATVI</th>\n",
       "      <td>Activision Blizzard</td>\n",
       "      <td>Information Technology</td>\n",
       "      <td>Home Entertainment Software</td>\n",
       "      <td>24.147472</td>\n",
       "      <td>33.719794</td>\n",
       "      <td>3.889392</td>\n",
       "      <td>3.069156</td>\n",
       "    </tr>\n",
       "  </tbody>\n",
       "</table>\n",
       "</div>"
      ],
      "text/plain": [
       "                          Security             GICS Sector  \\\n",
       "Ticker symbol                                                \n",
       "MMM                     3M Company             Industrials   \n",
       "ABT            Abbott Laboratories             Health Care   \n",
       "ABBV                        AbbVie             Health Care   \n",
       "ACN                  Accenture plc  Information Technology   \n",
       "ATVI           Activision Blizzard  Information Technology   \n",
       "\n",
       "                            GICS Sub Industry  alg profit  hold profit  \\\n",
       "Ticker symbol                                                            \n",
       "MMM                  Industrial Conglomerates   70.251046   109.256624   \n",
       "ABT                     Health Care Equipment    1.563760    24.642385   \n",
       "ABBV                          Pharmaceuticals    4.081111    31.289459   \n",
       "ACN            IT Consulting & Other Services   13.332207    78.178635   \n",
       "ATVI              Home Entertainment Software   24.147472    33.719794   \n",
       "\n",
       "               hold return  alg return  \n",
       "Ticker symbol                           \n",
       "MMM               2.473387    1.947375  \n",
       "ABT               2.259989    1.079957  \n",
       "ABBV              2.036399    1.135178  \n",
       "ACN               2.837709    1.313394  \n",
       "ATVI              3.889392    3.069156  "
      ]
     },
     "execution_count": 13,
     "metadata": {},
     "output_type": "execute_result"
    }
   ],
   "source": [
    "sp500.head()"
   ]
  },
  {
   "cell_type": "code",
   "execution_count": 14,
   "metadata": {
    "collapsed": false
   },
   "outputs": [
    {
     "data": {
      "text/html": [
       "<div>\n",
       "<table border=\"1\" class=\"dataframe\">\n",
       "  <thead>\n",
       "    <tr style=\"text-align: right;\">\n",
       "      <th></th>\n",
       "      <th>alg profit</th>\n",
       "      <th>hold profit</th>\n",
       "      <th>hold return</th>\n",
       "      <th>alg return</th>\n",
       "    </tr>\n",
       "  </thead>\n",
       "  <tbody>\n",
       "    <tr>\n",
       "      <th>count</th>\n",
       "      <td>505.000000</td>\n",
       "      <td>505.000000</td>\n",
       "      <td>505.000000</td>\n",
       "      <td>505.000000</td>\n",
       "    </tr>\n",
       "    <tr>\n",
       "      <th>mean</th>\n",
       "      <td>23.228604</td>\n",
       "      <td>52.122057</td>\n",
       "      <td>2.353275</td>\n",
       "      <td>1.630250</td>\n",
       "    </tr>\n",
       "    <tr>\n",
       "      <th>std</th>\n",
       "      <td>44.638306</td>\n",
       "      <td>86.865151</td>\n",
       "      <td>1.243858</td>\n",
       "      <td>0.832791</td>\n",
       "    </tr>\n",
       "    <tr>\n",
       "      <th>min</th>\n",
       "      <td>-78.601214</td>\n",
       "      <td>-98.669998</td>\n",
       "      <td>0.226162</td>\n",
       "      <td>-0.703826</td>\n",
       "    </tr>\n",
       "    <tr>\n",
       "      <th>25%</th>\n",
       "      <td>2.567680</td>\n",
       "      <td>16.295081</td>\n",
       "      <td>1.578227</td>\n",
       "      <td>1.087732</td>\n",
       "    </tr>\n",
       "    <tr>\n",
       "      <th>50%</th>\n",
       "      <td>14.295238</td>\n",
       "      <td>34.525001</td>\n",
       "      <td>2.215150</td>\n",
       "      <td>1.484045</td>\n",
       "    </tr>\n",
       "    <tr>\n",
       "      <th>75%</th>\n",
       "      <td>30.210031</td>\n",
       "      <td>62.241224</td>\n",
       "      <td>2.758697</td>\n",
       "      <td>1.950140</td>\n",
       "    </tr>\n",
       "    <tr>\n",
       "      <th>max</th>\n",
       "      <td>404.739946</td>\n",
       "      <td>1232.890015</td>\n",
       "      <td>11.029568</td>\n",
       "      <td>6.521881</td>\n",
       "    </tr>\n",
       "  </tbody>\n",
       "</table>\n",
       "</div>"
      ],
      "text/plain": [
       "       alg profit  hold profit  hold return  alg return\n",
       "count  505.000000   505.000000   505.000000  505.000000\n",
       "mean    23.228604    52.122057     2.353275    1.630250\n",
       "std     44.638306    86.865151     1.243858    0.832791\n",
       "min    -78.601214   -98.669998     0.226162   -0.703826\n",
       "25%      2.567680    16.295081     1.578227    1.087732\n",
       "50%     14.295238    34.525001     2.215150    1.484045\n",
       "75%     30.210031    62.241224     2.758697    1.950140\n",
       "max    404.739946  1232.890015    11.029568    6.521881"
      ]
     },
     "execution_count": 14,
     "metadata": {},
     "output_type": "execute_result"
    }
   ],
   "source": [
    "sp500.describe()"
   ]
  },
  {
   "cell_type": "code",
   "execution_count": 29,
   "metadata": {
    "collapsed": false
   },
   "outputs": [
    {
     "data": {
      "image/png": "[encoded data removed]",
      "text/plain": [
       "<matplotlib.figure.Figure at 0x141eb801cc0>"
      ]
     },
     "metadata": {},
     "output_type": "display_data"
    }
   ],
   "source": [
    "def plot_returns():\n",
    "    plt.figure(figsize=(15,7)) \n",
    "    df = sp500.sort_values('hold return')\n",
    "    plt.bar(np.arange(df['hold return'].count()), df['hold return'], label='Hold')\n",
    "    plt.bar(np.arange(df['alg return'].count()), df['alg return'], label='Algorithm', alpha=0.8, color='r')\n",
    "    plt.axhline(y=1, color='black', lw=2)\n",
    "    plt.ylabel('Return Ratio')\n",
    "    plt.xlabel('Stocks')\n",
    "    plt.legend()\n",
    "    plt.title('Return Ratio of Hold (sorted) & Corresponding Algorithm Return')\n",
    "    plt.savefig('data out/return ratio hold and alg-sp500', dpi=600)\n",
    "    \n",
    "plot_returns()"
   ]
  },
  {
   "cell_type": "code",
   "execution_count": 30,
   "metadata": {
    "collapsed": false
   },
   "outputs": [
    {
     "data": {
      "image/png": "[encoded data removed]",
      "text/plain": [
       "<matplotlib.figure.Figure at 0x141ecc66198>"
      ]
     },
     "metadata": {},
     "output_type": "display_data"
    }
   ],
   "source": [
    "def plot_returns():\n",
    "    plt.figure(figsize=(15,7))\n",
    "    df = sp500.sort_values('hold return')\n",
    "    df = df[df['hold return']<1]\n",
    "    plt.bar(np.arange(df['hold return'].count()), df['hold return'], label='Hold')\n",
    "    plt.bar(np.arange(df['alg return'].count()), df['alg return'], label='Algorithm', alpha=0.6, color='r')\n",
    "    plt.axhline(y=1, color='black', lw=2)\n",
    "    plt.ylabel('Return Ratio')\n",
    "    plt.legend()\n",
    "    plt.title('Return Ratio of Hold (sorted) & Corresponding Algorithm Return \\nHold Loss Only')\n",
    "    plt.xticks(np.arange(len(df)))\n",
    "    plt.gca().set_xticklabels(df.index)\n",
    "    plt.xticks(rotation=90)\n",
    "    plt.savefig('data out/return ratio hold and alg-sp500-hold loss', dpi=600)\n",
    "    \n",
    "plot_returns()"
   ]
  },
  {
   "cell_type": "markdown",
   "metadata": {
    "collapsed": true
   },
   "source": [
    "It appears that the algorithm often outperforms holding the stock when holding results in a loss. Let's breakdown those numbers."
   ]
  },
  {
   "cell_type": "code",
   "execution_count": 18,
   "metadata": {
    "collapsed": false
   },
   "outputs": [
    {
     "data": {
      "text/html": [
       "<div>\n",
       "<table border=\"1\" class=\"dataframe\">\n",
       "  <thead>\n",
       "    <tr style=\"text-align: right;\">\n",
       "      <th>alg &gt; hold</th>\n",
       "      <th>False</th>\n",
       "      <th>True</th>\n",
       "      <th>All</th>\n",
       "    </tr>\n",
       "    <tr>\n",
       "      <th>hold loss</th>\n",
       "      <th></th>\n",
       "      <th></th>\n",
       "      <th></th>\n",
       "    </tr>\n",
       "  </thead>\n",
       "  <tbody>\n",
       "    <tr>\n",
       "      <th>False</th>\n",
       "      <td>431.0</td>\n",
       "      <td>28.0</td>\n",
       "      <td>459.0</td>\n",
       "    </tr>\n",
       "    <tr>\n",
       "      <th>True</th>\n",
       "      <td>14.0</td>\n",
       "      <td>32.0</td>\n",
       "      <td>46.0</td>\n",
       "    </tr>\n",
       "    <tr>\n",
       "      <th>All</th>\n",
       "      <td>445.0</td>\n",
       "      <td>60.0</td>\n",
       "      <td>505.0</td>\n",
       "    </tr>\n",
       "  </tbody>\n",
       "</table>\n",
       "</div>"
      ],
      "text/plain": [
       "alg > hold  False  True    All\n",
       "hold loss                     \n",
       "False       431.0  28.0  459.0\n",
       "True         14.0  32.0   46.0\n",
       "All         445.0  60.0  505.0"
      ]
     },
     "execution_count": 18,
     "metadata": {},
     "output_type": "execute_result"
    }
   ],
   "source": [
    "def pivot_stocks():\n",
    "    df = pd.DataFrame((sp500['hold return']<1).values, columns=['hold loss'])\n",
    "    df['alg > hold'] = (sp500['alg profit'] > sp500['hold profit']).values\n",
    "    return df.pivot_table(index='hold loss', columns='alg > hold', aggfunc=len, margins=True)\n",
    "\n",
    "pivot_stocks()"
   ]
  },
  {
   "cell_type": "code",
   "execution_count": 19,
   "metadata": {
    "collapsed": false
   },
   "outputs": [
    {
     "data": {
      "text/html": [
       "<div>\n",
       "<table border=\"1\" class=\"dataframe\">\n",
       "  <thead>\n",
       "    <tr style=\"text-align: right;\">\n",
       "      <th>alg &gt; hold</th>\n",
       "      <th>False</th>\n",
       "      <th>True</th>\n",
       "      <th>All</th>\n",
       "    </tr>\n",
       "    <tr>\n",
       "      <th>hold loss</th>\n",
       "      <th></th>\n",
       "      <th></th>\n",
       "      <th></th>\n",
       "    </tr>\n",
       "  </thead>\n",
       "  <tbody>\n",
       "    <tr>\n",
       "      <th>False</th>\n",
       "      <td>93.899782</td>\n",
       "      <td>6.100218</td>\n",
       "      <td>100.0</td>\n",
       "    </tr>\n",
       "    <tr>\n",
       "      <th>True</th>\n",
       "      <td>30.434783</td>\n",
       "      <td>69.565217</td>\n",
       "      <td>100.0</td>\n",
       "    </tr>\n",
       "    <tr>\n",
       "      <th>All</th>\n",
       "      <td>88.118812</td>\n",
       "      <td>11.881188</td>\n",
       "      <td>100.0</td>\n",
       "    </tr>\n",
       "  </tbody>\n",
       "</table>\n",
       "</div>"
      ],
      "text/plain": [
       "alg > hold      False       True    All\n",
       "hold loss                              \n",
       "False       93.899782   6.100218  100.0\n",
       "True        30.434783  69.565217  100.0\n",
       "All         88.118812  11.881188  100.0"
      ]
     },
     "execution_count": 19,
     "metadata": {},
     "output_type": "execute_result"
    }
   ],
   "source": [
    "def pivot_percentages():\n",
    "    pt_vals = pivot_stocks()\n",
    "    return pt_vals.div(pt_vals.iloc[:,-1], axis=0) * 100\n",
    "pivot_percentages()"
   ]
  },
  {
   "cell_type": "markdown",
   "metadata": {},
   "source": [
    "This trading strategy only beat holding the stock in 12% of the stocks tested. \n",
    "\n",
    "When holding the stock resulted in a loss, the trading strategy outperformed it more often than not. The trading strategy may be a way to limit loss and risk over holding a stock. "
   ]
  },
  {
   "cell_type": "markdown",
   "metadata": {},
   "source": [
    "## Potential Losses\n",
    "Trip Advisor has a negative return ratio (i.e., losses over multiple trades were more than 100% of the initial stock value). \n",
    "\n",
    "The problem here is money is lost in one trade, then more money is invested in the next trade, creating more risk."
   ]
  },
  {
   "cell_type": "code",
   "execution_count": 20,
   "metadata": {
    "collapsed": false
   },
   "outputs": [
    {
     "data": {
      "text/html": [
       "<div>\n",
       "<table border=\"1\" class=\"dataframe\">\n",
       "  <thead>\n",
       "    <tr style=\"text-align: right;\">\n",
       "      <th></th>\n",
       "      <th>Security</th>\n",
       "      <th>GICS Sector</th>\n",
       "      <th>GICS Sub Industry</th>\n",
       "      <th>alg profit</th>\n",
       "      <th>hold profit</th>\n",
       "      <th>hold return</th>\n",
       "      <th>alg return</th>\n",
       "    </tr>\n",
       "    <tr>\n",
       "      <th>Ticker symbol</th>\n",
       "      <th></th>\n",
       "      <th></th>\n",
       "      <th></th>\n",
       "      <th></th>\n",
       "      <th></th>\n",
       "      <th></th>\n",
       "      <th></th>\n",
       "    </tr>\n",
       "  </thead>\n",
       "  <tbody>\n",
       "    <tr>\n",
       "      <th>TRIP</th>\n",
       "      <td>TripAdvisor</td>\n",
       "      <td>Consumer Discretionary</td>\n",
       "      <td>Internet &amp; Direct Marketing Retail</td>\n",
       "      <td>-46.770013</td>\n",
       "      <td>19.469997</td>\n",
       "      <td>1.709289</td>\n",
       "      <td>-0.703826</td>\n",
       "    </tr>\n",
       "  </tbody>\n",
       "</table>\n",
       "</div>"
      ],
      "text/plain": [
       "                  Security             GICS Sector  \\\n",
       "Ticker symbol                                        \n",
       "TRIP           TripAdvisor  Consumer Discretionary   \n",
       "\n",
       "                                GICS Sub Industry  alg profit  hold profit  \\\n",
       "Ticker symbol                                                                \n",
       "TRIP           Internet & Direct Marketing Retail  -46.770013    19.469997   \n",
       "\n",
       "               hold return  alg return  \n",
       "Ticker symbol                           \n",
       "TRIP              1.709289   -0.703826  "
      ]
     },
     "execution_count": 20,
     "metadata": {},
     "output_type": "execute_result"
    }
   ],
   "source": [
    "sp500[sp500['alg return']<0]"
   ]
  },
  {
   "cell_type": "markdown",
   "metadata": {},
   "source": [
    "Let's look at the profit made in each trade for TripAdvisor"
   ]
  },
  {
   "cell_type": "code",
   "execution_count": 21,
   "metadata": {
    "collapsed": false
   },
   "outputs": [
    {
     "data": {
      "text/plain": [
       "Date\n",
       "2012-02-17     5.309997\n",
       "2012-11-20    24.990001\n",
       "2013-07-29     8.379997\n",
       "2014-02-20   -17.810005\n",
       "2014-05-30    -3.299995\n",
       "2014-09-19    -4.080002\n",
       "2015-01-14     1.390000\n",
       "2015-02-19    -7.690003\n",
       "2015-06-25   -13.490006\n",
       "2015-10-20   -12.330002\n",
       "2016-03-29    -1.890003\n",
       "2016-05-24    -1.769997\n",
       "2016-07-22    -8.039997\n",
       "2016-10-10   -11.969997\n",
       "2017-01-23    -4.470001\n",
       "Name: Profit, dtype: float64"
      ]
     },
     "execution_count": 21,
     "metadata": {},
     "output_type": "execute_result"
    }
   ],
   "source": [
    "Stock(sp500_prices['TRIP']).get_profits(20,50)['Profit']"
   ]
  },
  {
   "cell_type": "code",
   "execution_count": 25,
   "metadata": {
    "collapsed": false
   },
   "outputs": [
    {
     "data": {
      "image/png": "[encoded data removed]",
      "text/plain": [
       "<matplotlib.figure.Figure at 0x141ed450908>"
      ]
     },
     "metadata": {},
     "output_type": "display_data"
    }
   ],
   "source": [
    "def plot_purchase_windows(trade_df, symbol):\n",
    "    plt.figure(figsize=(17,6)) \n",
    "    plt.plot(trade_df.loc[start:, 'Close'], label='Adjusted Close Price')\n",
    "    plt.xlabel('Date')\n",
    "    plt.ylabel('Adjusted Close Price')\n",
    "    buy_dates = list(trade_df.loc[trade_df[\"Signal\"]==1,'Signal'].index)\n",
    "    sell_dates = list(trade_df.loc[trade_df[\"Signal\"]==-1,'Signal'].index)\n",
    "    for buy_window in zip(buy_dates, sell_dates):\n",
    "        plt.axvspan(buy_window[0], buy_window[1], alpha=0.5, color='green', label='Purchase Window')\n",
    "    plt.title('Adjusted Close with Purchase Periods Shaded \\n{}'.format(symbol))\n",
    "    handles, labels = plt.gca().get_legend_handles_labels()\n",
    "    plt.legend(handles[:2], labels[:2]) # avoid repeating each purchase window in the legend\n",
    "    plt.savefig('data out/purchase windows - {}'.format(symbol))\n",
    "\n",
    "\n",
    "signals = Stock(sp500_prices['TRIP']).get_signals_prices(20,50)\n",
    "plot_purchase_windows(signals, 'TRIP')"
   ]
  },
  {
   "cell_type": "code",
   "execution_count": null,
   "metadata": {
    "collapsed": true
   },
   "outputs": [],
   "source": []
  }
 ],
 "metadata": {
  "kernelspec": {
   "display_name": "Python 3",
   "language": "python",
   "name": "python3"
  },
  "language_info": {
   "codemirror_mode": {
    "name": "ipython",
    "version": 3
   },
   "file_extension": ".py",
   "mimetype": "text/x-python",
   "name": "python",
   "nbconvert_exporter": "python",
   "pygments_lexer": "ipython3",
   "version": "3.5.1"
  }
 },
 "nbformat": 4,
 "nbformat_minor": 0
}
